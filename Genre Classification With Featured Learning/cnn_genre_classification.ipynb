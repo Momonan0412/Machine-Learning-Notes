{
 "cells": [
  {
   "cell_type": "code",
   "execution_count": 1,
   "metadata": {},
   "outputs": [],
   "source": [
    "import sys\n",
    "import os\n",
    "sys.path.append(os.path.abspath('..'))\n",
    "\n",
    "from data_handler import DataUtils\n",
    "from cnn_builder import ModelBuilder\n",
    "from sklearn.model_selection import train_test_split\n",
    "import keras\n",
    "from keras import layers\n",
    "from keras import ops\n",
    "import matplotlib.pyplot as plt\n",
    "\n",
    "\n",
    "DATASET_PATH = \"../data.json\"\n",
    "data_util = DataUtils(DATASET_PATH)\n",
    "inputs, targets = data_util._get_inputs_and_targets()"
   ]
  },
  {
   "cell_type": "code",
   "execution_count": 2,
   "metadata": {},
   "outputs": [
    {
     "name": "stdout",
     "output_type": "stream",
     "text": [
      "(9986, 130, 13)\n",
      "X Train's Shape  (5991, 130, 13, 1)\n",
      "X Validation's Shape  (1498, 130, 13, 1)\n",
      "X Test's Shape  (2497, 130, 13, 1)\n",
      "X Train's Shape  (5991,)\n",
      "X Validation's Shape  (1498,)\n",
      "X Test's Shape  (2497,)\n"
     ]
    }
   ],
   "source": [
    "print(inputs.shape)\n",
    "x_train, x_validation, x_test, y_train, y_validation, y_test = data_util.prepare_data(test_size=.25,validation_size=.2)"
   ]
  },
  {
   "cell_type": "code",
   "execution_count": 3,
   "metadata": {},
   "outputs": [
    {
     "name": "stdout",
     "output_type": "stream",
     "text": [
      "Epoch 1/30\n",
      "\u001b[1m188/188\u001b[0m \u001b[32m━━━━━━━━━━━━━━━━━━━━\u001b[0m\u001b[37m\u001b[0m \u001b[1m4s\u001b[0m 11ms/step - loss: 2.6799 - sparse_categorical_accuracy: 0.1722 - val_loss: 1.8057 - val_sparse_categorical_accuracy: 0.3498\n",
      "Epoch 2/30\n",
      "\u001b[1m188/188\u001b[0m \u001b[32m━━━━━━━━━━━━━━━━━━━━\u001b[0m\u001b[37m\u001b[0m \u001b[1m2s\u001b[0m 11ms/step - loss: 1.8971 - sparse_categorical_accuracy: 0.3381 - val_loss: 1.5015 - val_sparse_categorical_accuracy: 0.4606\n",
      "Epoch 3/30\n",
      "\u001b[1m188/188\u001b[0m \u001b[32m━━━━━━━━━━━━━━━━━━━━\u001b[0m\u001b[37m\u001b[0m \u001b[1m2s\u001b[0m 11ms/step - loss: 1.6477 - sparse_categorical_accuracy: 0.4123 - val_loss: 1.3643 - val_sparse_categorical_accuracy: 0.4987\n",
      "Epoch 4/30\n",
      "\u001b[1m188/188\u001b[0m \u001b[32m━━━━━━━━━━━━━━━━━━━━\u001b[0m\u001b[37m\u001b[0m \u001b[1m2s\u001b[0m 11ms/step - loss: 1.5265 - sparse_categorical_accuracy: 0.4527 - val_loss: 1.2711 - val_sparse_categorical_accuracy: 0.5387\n",
      "Epoch 5/30\n",
      "\u001b[1m188/188\u001b[0m \u001b[32m━━━━━━━━━━━━━━━━━━━━\u001b[0m\u001b[37m\u001b[0m \u001b[1m2s\u001b[0m 11ms/step - loss: 1.4334 - sparse_categorical_accuracy: 0.4837 - val_loss: 1.1962 - val_sparse_categorical_accuracy: 0.5688\n",
      "Epoch 6/30\n",
      "\u001b[1m188/188\u001b[0m \u001b[32m━━━━━━━━━━━━━━━━━━━━\u001b[0m\u001b[37m\u001b[0m \u001b[1m2s\u001b[0m 11ms/step - loss: 1.3568 - sparse_categorical_accuracy: 0.5046 - val_loss: 1.1467 - val_sparse_categorical_accuracy: 0.5734\n",
      "Epoch 7/30\n",
      "\u001b[1m188/188\u001b[0m \u001b[32m━━━━━━━━━━━━━━━━━━━━\u001b[0m\u001b[37m\u001b[0m \u001b[1m2s\u001b[0m 11ms/step - loss: 1.2792 - sparse_categorical_accuracy: 0.5379 - val_loss: 1.1083 - val_sparse_categorical_accuracy: 0.6075\n",
      "Epoch 8/30\n",
      "\u001b[1m188/188\u001b[0m \u001b[32m━━━━━━━━━━━━━━━━━━━━\u001b[0m\u001b[37m\u001b[0m \u001b[1m2s\u001b[0m 11ms/step - loss: 1.2185 - sparse_categorical_accuracy: 0.5605 - val_loss: 1.0639 - val_sparse_categorical_accuracy: 0.6182\n",
      "Epoch 9/30\n",
      "\u001b[1m188/188\u001b[0m \u001b[32m━━━━━━━━━━━━━━━━━━━━\u001b[0m\u001b[37m\u001b[0m \u001b[1m2s\u001b[0m 11ms/step - loss: 1.1806 - sparse_categorical_accuracy: 0.5794 - val_loss: 1.0380 - val_sparse_categorical_accuracy: 0.6335\n",
      "Epoch 10/30\n",
      "\u001b[1m188/188\u001b[0m \u001b[32m━━━━━━━━━━━━━━━━━━━━\u001b[0m\u001b[37m\u001b[0m \u001b[1m2s\u001b[0m 11ms/step - loss: 1.1273 - sparse_categorical_accuracy: 0.5855 - val_loss: 1.0203 - val_sparse_categorical_accuracy: 0.6389\n",
      "Epoch 11/30\n",
      "\u001b[1m188/188\u001b[0m \u001b[32m━━━━━━━━━━━━━━━━━━━━\u001b[0m\u001b[37m\u001b[0m \u001b[1m2s\u001b[0m 11ms/step - loss: 1.1026 - sparse_categorical_accuracy: 0.5987 - val_loss: 0.9890 - val_sparse_categorical_accuracy: 0.6442\n",
      "Epoch 12/30\n",
      "\u001b[1m188/188\u001b[0m \u001b[32m━━━━━━━━━━━━━━━━━━━━\u001b[0m\u001b[37m\u001b[0m \u001b[1m2s\u001b[0m 11ms/step - loss: 1.0660 - sparse_categorical_accuracy: 0.6194 - val_loss: 0.9745 - val_sparse_categorical_accuracy: 0.6455\n",
      "Epoch 13/30\n",
      "\u001b[1m188/188\u001b[0m \u001b[32m━━━━━━━━━━━━━━━━━━━━\u001b[0m\u001b[37m\u001b[0m \u001b[1m2s\u001b[0m 11ms/step - loss: 1.0481 - sparse_categorical_accuracy: 0.6351 - val_loss: 0.9651 - val_sparse_categorical_accuracy: 0.6615\n",
      "Epoch 14/30\n",
      "\u001b[1m188/188\u001b[0m \u001b[32m━━━━━━━━━━━━━━━━━━━━\u001b[0m\u001b[37m\u001b[0m \u001b[1m2s\u001b[0m 11ms/step - loss: 0.9998 - sparse_categorical_accuracy: 0.6448 - val_loss: 0.9331 - val_sparse_categorical_accuracy: 0.6762\n",
      "Epoch 15/30\n",
      "\u001b[1m188/188\u001b[0m \u001b[32m━━━━━━━━━━━━━━━━━━━━\u001b[0m\u001b[37m\u001b[0m \u001b[1m2s\u001b[0m 11ms/step - loss: 0.9622 - sparse_categorical_accuracy: 0.6605 - val_loss: 0.9317 - val_sparse_categorical_accuracy: 0.6789\n",
      "Epoch 16/30\n",
      "\u001b[1m188/188\u001b[0m \u001b[32m━━━━━━━━━━━━━━━━━━━━\u001b[0m\u001b[37m\u001b[0m \u001b[1m2s\u001b[0m 11ms/step - loss: 0.9377 - sparse_categorical_accuracy: 0.6704 - val_loss: 0.8984 - val_sparse_categorical_accuracy: 0.6836\n",
      "Epoch 17/30\n",
      "\u001b[1m188/188\u001b[0m \u001b[32m━━━━━━━━━━━━━━━━━━━━\u001b[0m\u001b[37m\u001b[0m \u001b[1m2s\u001b[0m 11ms/step - loss: 0.9470 - sparse_categorical_accuracy: 0.6722 - val_loss: 0.8935 - val_sparse_categorical_accuracy: 0.6802\n",
      "Epoch 18/30\n",
      "\u001b[1m188/188\u001b[0m \u001b[32m━━━━━━━━━━━━━━━━━━━━\u001b[0m\u001b[37m\u001b[0m \u001b[1m2s\u001b[0m 11ms/step - loss: 0.8795 - sparse_categorical_accuracy: 0.6966 - val_loss: 0.8688 - val_sparse_categorical_accuracy: 0.6916\n",
      "Epoch 19/30\n",
      "\u001b[1m188/188\u001b[0m \u001b[32m━━━━━━━━━━━━━━━━━━━━\u001b[0m\u001b[37m\u001b[0m \u001b[1m2s\u001b[0m 11ms/step - loss: 0.8679 - sparse_categorical_accuracy: 0.6935 - val_loss: 0.8515 - val_sparse_categorical_accuracy: 0.7049\n",
      "Epoch 20/30\n",
      "\u001b[1m188/188\u001b[0m \u001b[32m━━━━━━━━━━━━━━━━━━━━\u001b[0m\u001b[37m\u001b[0m \u001b[1m2s\u001b[0m 11ms/step - loss: 0.8315 - sparse_categorical_accuracy: 0.7158 - val_loss: 0.8472 - val_sparse_categorical_accuracy: 0.6923\n",
      "Epoch 21/30\n",
      "\u001b[1m188/188\u001b[0m \u001b[32m━━━━━━━━━━━━━━━━━━━━\u001b[0m\u001b[37m\u001b[0m \u001b[1m2s\u001b[0m 11ms/step - loss: 0.8151 - sparse_categorical_accuracy: 0.7023 - val_loss: 0.8360 - val_sparse_categorical_accuracy: 0.7029\n",
      "Epoch 22/30\n",
      "\u001b[1m188/188\u001b[0m \u001b[32m━━━━━━━━━━━━━━━━━━━━\u001b[0m\u001b[37m\u001b[0m \u001b[1m2s\u001b[0m 11ms/step - loss: 0.8040 - sparse_categorical_accuracy: 0.7118 - val_loss: 0.8790 - val_sparse_categorical_accuracy: 0.6842\n",
      "Epoch 23/30\n",
      "\u001b[1m188/188\u001b[0m \u001b[32m━━━━━━━━━━━━━━━━━━━━\u001b[0m\u001b[37m\u001b[0m \u001b[1m2s\u001b[0m 11ms/step - loss: 0.8203 - sparse_categorical_accuracy: 0.7102 - val_loss: 0.8110 - val_sparse_categorical_accuracy: 0.7049\n",
      "Epoch 24/30\n",
      "\u001b[1m188/188\u001b[0m \u001b[32m━━━━━━━━━━━━━━━━━━━━\u001b[0m\u001b[37m\u001b[0m \u001b[1m2s\u001b[0m 11ms/step - loss: 0.7642 - sparse_categorical_accuracy: 0.7407 - val_loss: 0.8181 - val_sparse_categorical_accuracy: 0.7170\n",
      "Epoch 25/30\n",
      "\u001b[1m188/188\u001b[0m \u001b[32m━━━━━━━━━━━━━━━━━━━━\u001b[0m\u001b[37m\u001b[0m \u001b[1m2s\u001b[0m 11ms/step - loss: 0.7319 - sparse_categorical_accuracy: 0.7469 - val_loss: 0.8283 - val_sparse_categorical_accuracy: 0.7049\n",
      "Epoch 26/30\n",
      "\u001b[1m188/188\u001b[0m \u001b[32m━━━━━━━━━━━━━━━━━━━━\u001b[0m\u001b[37m\u001b[0m \u001b[1m2s\u001b[0m 11ms/step - loss: 0.7455 - sparse_categorical_accuracy: 0.7407 - val_loss: 0.8193 - val_sparse_categorical_accuracy: 0.7083\n",
      "Epoch 27/30\n",
      "\u001b[1m188/188\u001b[0m \u001b[32m━━━━━━━━━━━━━━━━━━━━\u001b[0m\u001b[37m\u001b[0m \u001b[1m2s\u001b[0m 11ms/step - loss: 0.7117 - sparse_categorical_accuracy: 0.7495 - val_loss: 0.8045 - val_sparse_categorical_accuracy: 0.7143\n",
      "Epoch 28/30\n",
      "\u001b[1m188/188\u001b[0m \u001b[32m━━━━━━━━━━━━━━━━━━━━\u001b[0m\u001b[37m\u001b[0m \u001b[1m2s\u001b[0m 11ms/step - loss: 0.7107 - sparse_categorical_accuracy: 0.7528 - val_loss: 0.7911 - val_sparse_categorical_accuracy: 0.7230\n",
      "Epoch 29/30\n",
      "\u001b[1m188/188\u001b[0m \u001b[32m━━━━━━━━━━━━━━━━━━━━\u001b[0m\u001b[37m\u001b[0m \u001b[1m2s\u001b[0m 10ms/step - loss: 0.6773 - sparse_categorical_accuracy: 0.7683 - val_loss: 0.7948 - val_sparse_categorical_accuracy: 0.7109\n",
      "Epoch 30/30\n",
      "\u001b[1m188/188\u001b[0m \u001b[32m━━━━━━━━━━━━━━━━━━━━\u001b[0m\u001b[37m\u001b[0m \u001b[1m2s\u001b[0m 9ms/step - loss: 0.6780 - sparse_categorical_accuracy: 0.7591 - val_loss: 0.7845 - val_sparse_categorical_accuracy: 0.7223\n",
      "\u001b[1m79/79\u001b[0m \u001b[32m━━━━━━━━━━━━━━━━━━━━\u001b[0m\u001b[37m\u001b[0m \u001b[1m0s\u001b[0m 3ms/step - loss: 0.8532 - sparse_categorical_accuracy: 0.7017\n",
      "Accuracy on Test Set:  0.7052462697029114\n",
      "Error on Test Set:  0.8542359471321106\n"
     ]
    }
   ],
   "source": [
    "layer_config = [\n",
    "    {'type': 'conv', 'filters': 32, 'kernel_size': (3, 3), 'activation': 'relu'},\n",
    "    {'type': 'maxpool', 'pool_size': (3, 3), 'strides' : (2, 2), 'padding' : 'same'},\n",
    "    {'type': 'batch_normalization'}, # Normalize the activation? Speed Ups Training Converging Way Faster, Mode Reliable\n",
    "\n",
    "    {'type': 'conv', 'filters': 32, 'kernel_size': (3, 3), 'activation': 'relu'},\n",
    "    {'type': 'maxpool', 'pool_size': (3, 3), 'strides' : (2, 2), 'padding' : 'same'},\n",
    "    {'type': 'batch_normalization'}, # Normalize the activation? Speed Ups Training Converging Way Faster, Mode Reliable\n",
    "    \n",
    "    {'type': 'conv', 'filters': 32, 'kernel_size': (2, 2), 'activation': 'relu'},\n",
    "    {'type': 'maxpool', 'pool_size': (2, 2), 'strides' : (2, 2), 'padding' : 'same'},\n",
    "    {'type': 'batch_normalization'}, # Normalize the activation? Speed Ups Training Converging Way Faster, Mode Reliable\n",
    "    \n",
    "    \n",
    "    {'type': 'flatten'},\n",
    "    {'type': 'dense', 'units': 64, 'activation': 'relu'},\n",
    "    {'type': 'dropout', 'rate': 0.3}\n",
    "]\n",
    "input_shape = x_train[1], x_train[2], x_train[3]\n",
    "num_classification = 10\n",
    "model_builder = ModelBuilder(input_shape, num_classification, layers=layer_config)\n",
    "model = model_builder._build_model(learning_rate=0.0001)\n",
    "# Train\n",
    "model.fit(x_train, y_train, validation_data=(x_validation, y_validation), batch_size=32, epochs=30)\n",
    "# Evaluate\n",
    "test_error, test_accuracy = model.evaluate(x_test, y_test, verbose=1)\n",
    "print(\"Accuracy on Test Set: \", test_accuracy)\n",
    "print(\"Error on Test Set: \", test_error)\n"
   ]
  },
  {
   "cell_type": "code",
   "execution_count": 4,
   "metadata": {},
   "outputs": [
    {
     "name": "stdout",
     "output_type": "stream",
     "text": [
      "['blues' 'classical' 'country' 'disco' 'hiphop' 'jazz' 'metal' 'pop'\n",
      " 'reggae' 'rock']\n",
      "\u001b[1m1/1\u001b[0m \u001b[32m━━━━━━━━━━━━━━━━━━━━\u001b[0m\u001b[37m\u001b[0m \u001b[1m0s\u001b[0m 104ms/step\n",
      "2\n",
      "2\n"
     ]
    }
   ],
   "source": [
    "maps = data_util._get_maps()\n",
    "input = x_test[100]\n",
    "target = y_test[100]\n",
    "print(maps)\n",
    "predicted_index = data_util.data_predict(model, input)\n",
    "print(predicted_index[0])\n",
    "print(target)"
   ]
  }
 ],
 "metadata": {
  "kernelspec": {
   "display_name": "Python 3",
   "language": "python",
   "name": "python3"
  },
  "language_info": {
   "codemirror_mode": {
    "name": "ipython",
    "version": 3
   },
   "file_extension": ".py",
   "mimetype": "text/x-python",
   "name": "python",
   "nbconvert_exporter": "python",
   "pygments_lexer": "ipython3",
   "version": "3.12.6"
  }
 },
 "nbformat": 4,
 "nbformat_minor": 2
}
